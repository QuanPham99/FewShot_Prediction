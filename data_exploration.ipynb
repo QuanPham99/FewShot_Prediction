{
 "cells": [
  {
   "cell_type": "code",
   "execution_count": 113,
   "metadata": {},
   "outputs": [],
   "source": [
    "# Import libraries\n",
    "import pandas as pd\n",
    "import json "
   ]
  },
  {
   "cell_type": "code",
   "execution_count": 114,
   "metadata": {},
   "outputs": [
    {
     "name": "stdout",
     "output_type": "stream",
     "text": [
      "Full train/test dataset before dropping NaN answers: 6532\n",
      "Full train/test dataset after dropping NaN answers: 3748\n",
      "Number of questions: 6532\n",
      "Number of train questions: 5581\n",
      "Number of test questions: 1364\n",
      "Keys in dataset: Index(['Unnamed: 0', 'question', 'id', 'background', 'publish_time',\n",
      "       'close_time', 'tags', 'source_links', 'prediction_count',\n",
      "       'forecaster_count', 'answer', 'choices', 'status', 'qtype', 'crowd'],\n",
      "      dtype='object')\n"
     ]
    }
   ],
   "source": [
    "# Official dataset\n",
    "autocast_full_official = json.load(open(\"data/autocast_questions.json\"))\n",
    "autocast_test_ids = json.load(open(\"data/autocast_competition_test_set.json\"))\n",
    "# Test ids retrieved fron the official dataset\n",
    "test_ids = [q['id'] for q in autocast_test_ids]\n",
    "# Train ids retrieved from the official dataset\n",
    "train_ids = []\n",
    "for q in autocast_full_official:\n",
    "    if q['id'] not in test_ids:\n",
    "        train_ids.append(q['id'])\n",
    "\n",
    "# Professor's dataset\n",
    "# Full dataset\n",
    "autocast_full = pd.read_excel(\"data/autocast_test_set_w_answers.xlsx\")\n",
    "print(\"Full train/test dataset before dropping NaN answers:\", autocast_full.shape[0])\n",
    "# New df that drops all questions with empty answers\n",
    "autocast_full_no_nan = autocast_full.dropna(subset=[\"answer\"])\n",
    "print(\"Full train/test dataset after dropping NaN answers:\", autocast_full_no_nan.shape[0])\n",
    "\n",
    "print(\"Number of questions:\", len(autocast_full_official))\n",
    "print(\"Number of train questions:\", len(train_ids))\n",
    "print(\"Number of test questions:\", len(autocast_test_ids))\n",
    "print(\"Keys in dataset:\", autocast_full.keys())"
   ]
  },
  {
   "cell_type": "code",
   "execution_count": 115,
   "metadata": {},
   "outputs": [
    {
     "name": "stdout",
     "output_type": "stream",
     "text": [
      "Before dropping NaN Values\n",
      "Number of test questions: 951\n",
      "Number of train questions: 5581\n"
     ]
    }
   ],
   "source": [
    "# Filter the dataset to 2 separate dataframe in the full dataset\n",
    "print(\"Before dropping NaN Values\")\n",
    "# Autocast test questions\n",
    "autocast_test_nan = autocast_full[autocast_full['id'].isin(test_ids)]\n",
    "print(\"Number of test questions:\", autocast_test_nan.shape[0])\n",
    "\n",
    "# Autocast train questions\n",
    "autocast_train_nan = autocast_full[~autocast_full['id'].isin(test_ids)]\n",
    "print(\"Number of train questions:\", autocast_train_nan.shape[0])"
   ]
  },
  {
   "cell_type": "code",
   "execution_count": 116,
   "metadata": {},
   "outputs": [
    {
     "name": "stdout",
     "output_type": "stream",
     "text": [
      "Before dropping NaN Values\n",
      "Number of test questions: 951\n",
      "Number of train questions: 5581\n"
     ]
    }
   ],
   "source": [
    "# Filter the dataset to 2 separate dataframe in the full dataset\n",
    "print(\"Before dropping NaN Values\")\n",
    "# Autocast test questions\n",
    "autocast_test_nan = autocast_full[autocast_full['id'].isin(test_ids)]\n",
    "print(\"Number of test questions:\", autocast_test_nan.shape[0])\n",
    "\n",
    "# Autocast train questions\n",
    "autocast_train_nan = autocast_full[~autocast_full['id'].isin(test_ids)]\n",
    "print(\"Number of train questions:\", autocast_train_nan.shape[0])"
   ]
  },
  {
   "cell_type": "code",
   "execution_count": 117,
   "metadata": {},
   "outputs": [
    {
     "name": "stdout",
     "output_type": "stream",
     "text": [
      "After dropping NaN Values\n",
      "Number of test questions: 951\n",
      "Number of train questions: 2797\n"
     ]
    }
   ],
   "source": [
    "print(\"After dropping NaN Values\")\n",
    "autocast_test_no_nan = autocast_full_no_nan[autocast_full_no_nan['id'].isin(test_ids)]\n",
    "print(\"Number of test questions:\", autocast_test_no_nan.shape[0])\n",
    "\n",
    "# Autocast train questions\n",
    "autocast_train_no_nan = autocast_full_no_nan[~autocast_full_no_nan['id'].isin(test_ids)]\n",
    "print(\"Number of train questions:\", autocast_train_no_nan.shape[0])"
   ]
  },
  {
   "cell_type": "code",
   "execution_count": 118,
   "metadata": {},
   "outputs": [],
   "source": [
    "# # Adding answers to the current dataset\n",
    "# for question in autocast_train_id:\n",
    "#     # Skip questions in test set\n",
    "#     if question['id'] in test_ids:\n",
    "#         continue\n",
    "#     # Skip quesitons with empty answers\n",
    "#     if question['answer'] is None:\n",
    "#         continue\n",
    "\n",
    "#     curr_id = question['id']\n",
    "#     curr_answer = question['answer']\n",
    "\n",
    "#     # Replace the answer \n",
    "#     ans = autocast_train_nan.loc[autocast_train_nan['id']==curr_id]['answer']\n",
    "\n",
    "#     if ans is None:\n",
    "#         autocast_full.at[curr_id, 'answer'] = ans\n",
    "#         print(\"Success!\")\n",
    "\n"
   ]
  }
 ],
 "metadata": {
  "kernelspec": {
   "display_name": "venv",
   "language": "python",
   "name": "python3"
  },
  "language_info": {
   "codemirror_mode": {
    "name": "ipython",
    "version": 3
   },
   "file_extension": ".py",
   "mimetype": "text/x-python",
   "name": "python",
   "nbconvert_exporter": "python",
   "pygments_lexer": "ipython3",
   "version": "3.10.9"
  },
  "orig_nbformat": 4
 },
 "nbformat": 4,
 "nbformat_minor": 2
}
